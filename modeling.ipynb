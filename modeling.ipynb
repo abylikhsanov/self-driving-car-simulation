{
 "cells": [
  {
   "cell_type": "code",
   "execution_count": 1,
   "metadata": {
    "collapsed": true
   },
   "outputs": [],
   "source": [
    "import csv\n",
    "import numpy as np\n",
    "import cv2"
   ]
  },
  {
   "cell_type": "code",
   "execution_count": 3,
   "metadata": {},
   "outputs": [],
   "source": [
    "lines = []\n",
    "with open('data/driving_log.csv') as csvfile:\n",
    "    reader = csv.reader(csvfile)\n",
    "    for line in reader:\n",
    "        lines.append(line)\n",
    "        \n",
    "images = []\n",
    "measurements = []\n",
    "for line in lines:\n",
    "    source_path = line[0]\n",
    "    fileName = source_path.split('/')[-1]\n",
    "    current_path = 'data/IMG/' + fileName\n",
    "    img = cv2.imread(current_path)\n",
    "    images.append(img)\n",
    "    measurements.append(float(line[3]))\n",
    "X_train = np.array(images)\n",
    "y_train = np.array(measurements)"
   ]
  },
  {
   "cell_type": "code",
   "execution_count": 10,
   "metadata": {},
   "outputs": [
    {
     "name": "stdout",
     "output_type": "stream",
     "text": [
      "Train on 1427 samples, validate on 357 samples\n",
      "Epoch 1/7\n",
      "1427/1427 [==============================] - 1s - loss: 25346875.3337 - val_loss: 433011.1870\n",
      "Epoch 2/7\n",
      "1427/1427 [==============================] - 1s - loss: 216663.2496 - val_loss: 37485.1194\n",
      "Epoch 3/7\n",
      "1427/1427 [==============================] - 1s - loss: 12346.9778 - val_loss: 6263.2351\n",
      "Epoch 4/7\n",
      "1427/1427 [==============================] - 1s - loss: 6953.4778 - val_loss: 6001.0835\n",
      "Epoch 5/7\n",
      "1427/1427 [==============================] - 1s - loss: 5343.2264 - val_loss: 4151.5774\n",
      "Epoch 6/7\n",
      "1427/1427 [==============================] - 1s - loss: 4412.7185 - val_loss: 3872.6128\n",
      "Epoch 7/7\n",
      "1427/1427 [==============================] - 1s - loss: 4602.8621 - val_loss: 4872.9681\n"
     ]
    }
   ],
   "source": [
    "from keras.models import Sequential\n",
    "from keras.layers import Flatten,Dense\n",
    "model = Sequential()\n",
    "model.add(Flatten(input_shape=X_train.shape[1:]))\n",
    "model.add(Dense(1))\n",
    "model.compile(optimizer='adam',loss='mse')\n",
    "model.fit(X_train,y_train,validation_split=0.2,shuffle=True,nb_epoch=7)\n",
    "model.save('model.h5')"
   ]
  },
  {
   "cell_type": "code",
   "execution_count": null,
   "metadata": {
    "collapsed": true
   },
   "outputs": [],
   "source": []
  }
 ],
 "metadata": {
  "kernelspec": {
   "display_name": "Python 3",
   "language": "python",
   "name": "python3"
  },
  "language_info": {
   "codemirror_mode": {
    "name": "ipython",
    "version": 3
   },
   "file_extension": ".py",
   "mimetype": "text/x-python",
   "name": "python",
   "nbconvert_exporter": "python",
   "pygments_lexer": "ipython3",
   "version": "3.5.2"
  },
  "widgets": {
   "state": {},
   "version": "1.1.2"
  }
 },
 "nbformat": 4,
 "nbformat_minor": 2
}
